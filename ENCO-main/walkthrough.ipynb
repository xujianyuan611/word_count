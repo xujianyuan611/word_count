{
 "cells": [
  {
   "cell_type": "markdown",
   "id": "18496af0",
   "metadata": {},
   "source": [
    "# Efficient Neural Causal Discovery without Acyclicity Constraints\n",
    "\n",
    "This notebook is intended to give an overview of the functionalities in this repository. We recommend to go through this notebook if you are interested in working with this repository."
   ]
  },
  {
   "cell_type": "markdown",
   "id": "d1eef344",
   "metadata": {},
   "source": [
    "## Preparation\n",
    "\n",
    "This part is only needed when you are running on Google Colab. We clone the repo to have access to the python files. In case you run this notebook locally, this step will be automatically skipped."
   ]
  },
  {
   "cell_type": "code",
   "execution_count": 1,
   "id": "467628fa",
   "metadata": {
    "pycharm": {
     "is_executing": true
    }
   },
   "outputs": [],
   "source": [
    "import os\n",
    "import sys\n",
    "\n",
    "if not os.path.isdir('causal_graphs/'):\n",
    "    print(\"Cloning the repository...\")\n",
    "    !git clone https://github.com/phlippe/ENCO\n",
    "    sys.path.append('ENCO/')"
   ]
  },
  {
   "cell_type": "markdown",
   "id": "9555eddd",
   "metadata": {},
   "source": [
    "For nicer visualizations, we import matplotlib with inline arguments. Additionally, we import PyTorch and Numpy on which the ENCO implementation is based on."
   ]
  },
  {
   "cell_type": "code",
   "execution_count": 8,
   "id": "a3d0eaea",
   "metadata": {},
   "outputs": [],
   "source": [
    "import matplotlib.pyplot as plt\n",
    "%matplotlib inline\n",
    "from matplotlib_inline.backend_inline import set_matplotlib_formats\n",
    "set_matplotlib_formats('svg', 'pdf')\n",
    "\n",
    "import torch\n",
    "import numpy as np"
   ]
  },
  {
   "cell_type": "markdown",
   "id": "438647b0",
   "metadata": {},
   "source": [
    "## Causal Graphs\n",
    "\n",
    "First, we take a look at how we can generate causal graphs and interact with them. All functionalities for this purpose have been summarized in the folder `causal_graphs`, and we import the most important functions below."
   ]
  },
  {
   "cell_type": "code",
   "execution_count": 27,
   "id": "8f10c205",
   "metadata": {},
   "outputs": [],
   "source": [
    "from causal_graphs.graph_definition import CausalDAG  # Base class of causal graphs\n",
    "from causal_graphs.graph_generation import generate_categorical_graph, get_graph_func  # Functions for generating new graphs\n",
    "from causal_graphs.graph_visualization import visualize_graph  # Plotting the graph in matplotlib"
   ]
  },
  {
   "cell_type": "markdown",
   "id": "bd0ce880",
   "metadata": {},
   "source": [
    "Every graph is represented as a `CausalDAG` object that contains a list of variables and an adjacency matrix/edge list to represent the graph structure. The conditional distributions are part of the variable objects. To sample a new data point, we iterate through the variables in the causal order and sample one by one. To demonstrate this, let us first generate an arbitrary graph. This can be done with the `generate_categorical_graph` function, and we can specify the desired graph structure with `get_graph_func`:"
   ]
  },
  {
   "cell_type": "code",
   "execution_count": 31,
   "id": "d0c56e5a",
   "metadata": {},
   "outputs": [],
   "source": [
    "graph = generate_categorical_graph(num_vars=8, \n",
    "                                   min_categs=10,\n",
    "                                   max_categs=10,\n",
    "                                   graph_func=get_graph_func('random'),\n",
    "                                   edge_prob=0.4,\n",
    "                                   seed=42)"
   ]
  },
  {
   "cell_type": "markdown",
   "id": "31ca222f",
   "metadata": {},
   "source": [
    "This function call creates a new graph with 8 variables, each having a distribution over 10 categories, and the graph structure is generated randomly by sampling an edge between any pair of variables with a probability of 0.4. The seed ensures that the graph generation is reproducible. To generate other graph structures, simply replace the string `'random'` by e.g. `'chain'` or `'jungle'`.\n",
    "\n",
    "To get an intuition of what the graph actually looks like, we can print it:"
   ]
  },
  {
   "cell_type": "code",
   "execution_count": 21,
   "id": "9f87ff3b",
   "metadata": {},
   "outputs": [
    {
     "name": "stdout",
     "output_type": "stream",
     "text": [
      "CausalDAG with 8 variables [D,E,G,H,C,F,A,B] and 10 edges:\n",
      "D => E,G,B\n",
      "E => H,C\n",
      "G => C\n",
      "H => F,A\n",
      "C => A\n",
      "A => B\n",
      "\n"
     ]
    }
   ],
   "source": [
    "print(graph)"
   ]
  },
  {
   "cell_type": "markdown",
   "id": "09603017",
   "metadata": {},
   "source": [
    "The variables are named alphabetically, and we have 10 edges. The edges are listed below the first line, e.g., we have an edge from D to E, and an edge from D to G. Alternatively, we can also plot the graph with matplotlib: "
   ]
  },
  {
   "cell_type": "code",
   "execution_count": 12,
   "id": "33cd4361",
   "metadata": {},
   "outputs": [
    {
     "data": {
      "application/pdf": "[encoded data removed]",
      "image/svg+xml": [
       "<?xml version=\"1.0\" encoding=\"utf-8\" standalone=\"no\"?>\n",
       "<!DOCTYPE svg PUBLIC \"-//W3C//DTD SVG 1.1//EN\"\n",
       "  \"http://www.w3.org/Graphics/SVG/1.1/DTD/svg11.dtd\">\n",
       "<svg xmlns:xlink=\"http://www.w3.org/1999/xlink\" width=\"302.4pt\" height=\"302.4pt\" viewBox=\"0 0 302.4 302.4\" xmlns=\"http://www.w3.org/2000/svg\" version=\"1.1\">\n",
       " <metadata>\n",
       "  <rdf:RDF xmlns:dc=\"http://purl.org/dc/elements/1.1/\" xmlns:cc=\"http://creativecommons.org/ns#\" xmlns:rdf=\"http://www.w3.org/1999/02/22-rdf-syntax-ns#\">\n",
       "   <cc:Work>\n",
       "    <dc:type rdf:resource=\"http://purl.org/dc/dcmitype/StillImage\"/>\n",
       "    <dc:date>2022-11-22T18:36:51.346214</dc:date>\n",
       "    <dc:format>image/svg+xml</dc:format>\n",
       "    <dc:creator>\n",
       "     <cc:Agent>\n",
       "      <dc:title>Matplotlib v3.5.1, https://matplotlib.org/</dc:title>\n",
       "     </cc:Agent>\n",
       "    </dc:creator>\n",
       "   </cc:Work>\n",
       "  </rdf:RDF>\n",
       " </metadata>\n",
       " <defs>\n",
       "  <style type=\"text/css\">*{stroke-linejoin: round; stroke-linecap: butt}</style>\n",
       " </defs>\n",
       " <g id=\"figure_1\">\n",
       "  <g id=\"patch_1\">\n",
       "   <path d=\"M 0 302.4 \n",
       "L 302.4 302.4 \n",
       "L 302.4 0 \n",
       "L 0 0 \n",
       "z\n",
       "\" style=\"fill: #ffffff\"/>\n",
       "  </g>\n",
       "  <g id=\"axes_1\">\n",
       "   <g id=\"patch_2\">\n",
       "    <path d=\"M 193.712385 36.173145 \n",
       "Q 118.74266 61.943987 44.830245 87.35138 \n",
       "\" clip-path=\"url(#pf785237f4d)\" style=\"fill: none; stroke: #000000; stroke-linecap: round\"/>\n",
       "    <path d=\"M 51.922895 88.297067 \n",
       "L 44.830245 87.35138 \n",
       "L 49.842384 82.244672 \n",
       "L 51.922895 88.297067 \n",
       "z\n",
       "\" clip-path=\"url(#pf785237f4d)\" style=\"stroke: #000000; stroke-linecap: round\"/>\n",
       "   </g>\n",
       "   <g id=\"patch_3\">\n",
       "    <path d=\"M 205.294666 44.441945 \n",
       "Q 205.294666 61.944413 205.294666 78.328846 \n",
       "\" clip-path=\"url(#pf785237f4d)\" style=\"fill: none; stroke: #000000; stroke-linecap: round\"/>\n",
       "    <path d=\"M 208.494666 71.928846 \n",
       "L 205.294666 78.328846 \n",
       "L 202.094666 71.928846 \n",
       "L 208.494666 71.928846 \n",
       "z\n",
       "\" clip-path=\"url(#pf785237f4d)\" style=\"stroke: #000000; stroke-linecap: round\"/>\n",
       "   </g>\n",
       "   <g id=\"patch_4\">\n",
       "    <path d=\"M 208.516772 44.006124 \n",
       "Q 237.751419 151.199831 266.691892 257.314899 \n",
       "\" clip-path=\"url(#pf785237f4d)\" style=\"fill: none; stroke: #000000; stroke-linecap: round\"/>\n",
       "    <path d=\"M 268.095185 250.298435 \n",
       "L 266.691892 257.314899 \n",
       "L 261.920696 251.982386 \n",
       "L 268.095185 250.298435 \n",
       "z\n",
       "\" clip-path=\"url(#pf785237f4d)\" style=\"stroke: #000000; stroke-linecap: round\"/>\n",
       "   </g>\n",
       "   <g id=\"patch_5\">\n",
       "    <path d=\"M 32.191736 103.946078 \n",
       "Q 32.191736 121.448545 32.191736 137.832979 \n",
       "\" clip-path=\"url(#pf785237f4d)\" style=\"fill: none; stroke: #000000; stroke-linecap: round\"/>\n",
       "    <path d=\"M 35.391736 131.432979 \n",
       "L 32.191736 137.832979 \n",
       "L 28.991736 131.432979 \n",
       "L 35.391736 131.432979 \n",
       "z\n",
       "\" clip-path=\"url(#pf785237f4d)\" style=\"stroke: #000000; stroke-linecap: round\"/>\n",
       "   </g>\n",
       "   <g id=\"patch_6\">\n",
       "    <path d=\"M 43.774016 95.677277 \n",
       "Q 118.743741 121.44812 192.656156 146.855512 \n",
       "\" clip-path=\"url(#pf785237f4d)\" style=\"fill: none; stroke: #000000; stroke-linecap: round\"/>\n",
       "    <path d=\"M 187.644017 141.748805 \n",
       "L 192.656156 146.855512 \n",
       "L 185.563506 147.801199 \n",
       "L 187.644017 141.748805 \n",
       "z\n",
       "\" clip-path=\"url(#pf785237f4d)\" style=\"stroke: #000000; stroke-linecap: round\"/>\n",
       "   </g>\n",
       "   <g id=\"patch_7\">\n",
       "    <path d=\"M 205.294666 103.946078 \n",
       "Q 205.294666 121.448545 205.294666 137.832979 \n",
       "\" clip-path=\"url(#pf785237f4d)\" style=\"fill: none; stroke: #000000; stroke-linecap: round\"/>\n",
       "    <path d=\"M 208.494666 131.432979 \n",
       "L 205.294666 137.832979 \n",
       "L 202.094666 131.432979 \n",
       "L 208.494666 131.432979 \n",
       "z\n",
       "\" clip-path=\"url(#pf785237f4d)\" style=\"stroke: #000000; stroke-linecap: round\"/>\n",
       "   </g>\n",
       "   <g id=\"patch_8\">\n",
       "    <path d=\"M 32.191736 163.45021 \n",
       "Q 32.191736 180.952677 32.191736 197.337111 \n",
       "\" clip-path=\"url(#pf785237f4d)\" style=\"fill: none; stroke: #000000; stroke-linecap: round\"/>\n",
       "    <path d=\"M 35.391736 190.937111 \n",
       "L 32.191736 197.337111 \n",
       "L 28.991736 190.937111 \n",
       "L 35.391736 190.937111 \n",
       "z\n",
       "\" clip-path=\"url(#pf785237f4d)\" style=\"stroke: #000000; stroke-linecap: round\"/>\n",
       "   </g>\n",
       "   <g id=\"patch_9\">\n",
       "    <path d=\"M 43.774016 155.181409 \n",
       "Q 118.743741 180.952252 192.656156 206.359644 \n",
       "\" clip-path=\"url(#pf785237f4d)\" style=\"fill: none; stroke: #000000; stroke-linecap: round\"/>\n",
       "    <path d=\"M 187.644017 201.252937 \n",
       "L 192.656156 206.359644 \n",
       "L 185.563506 207.305331 \n",
       "L 187.644017 201.252937 \n",
       "z\n",
       "\" clip-path=\"url(#pf785237f4d)\" style=\"stroke: #000000; stroke-linecap: round\"/>\n",
       "   </g>\n",
       "   <g id=\"patch_10\">\n",
       "    <path d=\"M 205.294666 163.45021 \n",
       "Q 205.294666 180.952677 205.294666 197.337111 \n",
       "\" clip-path=\"url(#pf785237f4d)\" style=\"fill: none; stroke: #000000; stroke-linecap: round\"/>\n",
       "    <path d=\"M 208.494666 190.937111 \n",
       "L 205.294666 197.337111 \n",
       "L 202.094666 190.937111 \n",
       "L 208.494666 190.937111 \n",
       "z\n",
       "\" clip-path=\"url(#pf785237f4d)\" style=\"stroke: #000000; stroke-linecap: round\"/>\n",
       "   </g>\n",
       "   <g id=\"patch_11\">\n",
       "    <path d=\"M 214.322109 218.979289 \n",
       "Q 237.750702 240.455498 260.355131 261.176225 \n",
       "\" clip-path=\"url(#pf785237f4d)\" style=\"fill: none; stroke: #000000; stroke-linecap: round\"/>\n",
       "    <path d=\"M 257.799663 254.492694 \n",
       "L 260.355131 261.176225 \n",
       "L 253.475025 259.210481 \n",
       "L 257.799663 254.492694 \n",
       "z\n",
       "\" clip-path=\"url(#pf785237f4d)\" style=\"stroke: #000000; stroke-linecap: round\"/>\n",
       "   </g>\n",
       "   <g id=\"PathCollection_1\">\n",
       "    <defs>\n",
       "     <path id=\"m723d4dca15\" d=\"M 0 12.247449 \n",
       "C 3.248061 12.247449 6.363528 10.95698 8.660254 8.660254 \n",
       "C 10.95698 6.363528 12.247449 3.248061 12.247449 0 \n",
       "C 12.247449 -3.248061 10.95698 -6.363528 8.660254 -8.660254 \n",
       "C 6.363528 -10.95698 3.248061 -12.247449 0 -12.247449 \n",
       "C -3.248061 -12.247449 -6.363528 -10.95698 -8.660254 -8.660254 \n",
       "C -10.95698 -6.363528 -12.247449 -3.248061 -12.247449 0 \n",
       "C -12.247449 3.248061 -10.95698 6.363528 -8.660254 8.660254 \n",
       "C -6.363528 10.95698 -3.248061 12.247449 0 12.247449 \n",
       "z\n",
       "\" style=\"stroke: #000000\"/>\n",
       "    </defs>\n",
       "    <g clip-path=\"url(#pf785237f4d)\">\n",
       "     <use xlink:href=\"#m723d4dca15\" x=\"205.294666\" y=\"32.191736\" style=\"fill: #d3d3d3; stroke: #000000\"/>\n",
       "     <use xlink:href=\"#m723d4dca15\" x=\"32.191736\" y=\"91.695868\" style=\"fill: #d3d3d3; stroke: #000000\"/>\n",
       "     <use xlink:href=\"#m723d4dca15\" x=\"205.294666\" y=\"91.695868\" style=\"fill: #d3d3d3; stroke: #000000\"/>\n",
       "     <use xlink:href=\"#m723d4dca15\" x=\"32.191736\" y=\"151.2\" style=\"fill: #d3d3d3; stroke: #000000\"/>\n",
       "     <use xlink:href=\"#m723d4dca15\" x=\"205.294666\" y=\"151.2\" style=\"fill: #d3d3d3; stroke: #000000\"/>\n",
       "     <use xlink:href=\"#m723d4dca15\" x=\"32.191736\" y=\"210.704132\" style=\"fill: #d3d3d3; stroke: #000000\"/>\n",
       "     <use xlink:href=\"#m723d4dca15\" x=\"205.294666\" y=\"210.704132\" style=\"fill: #d3d3d3; stroke: #000000\"/>\n",
       "     <use xlink:href=\"#m723d4dca15\" x=\"270.208264\" y=\"270.208264\" style=\"fill: #d3d3d3; stroke: #000000\"/>\n",
       "    </g>\n",
       "   </g>\n",
       "   <g id=\"text_1\">\n",
       "    <g clip-path=\"url(#pf785237f4d)\">\n",
       "     <!-- D -->\n",
       "     <g transform=\"translate(200.313728 35.502986)scale(0.12 -0.12)\">\n",
       "      <defs>\n",
       "       <path id=\"DejaVuSans-Bold-44\" d=\"M 1791 3756 \n",
       "L 1791 909 \n",
       "L 2222 909 \n",
       "Q 2959 909 3348 1275 \n",
       "Q 3738 1641 3738 2338 \n",
       "Q 3738 3031 3350 3393 \n",
       "Q 2963 3756 2222 3756 \n",
       "L 1791 3756 \n",
       "z\n",
       "M 588 4666 \n",
       "L 1856 4666 \n",
       "Q 2919 4666 3439 4514 \n",
       "Q 3959 4363 4331 4000 \n",
       "Q 4659 3684 4818 3271 \n",
       "Q 4978 2859 4978 2338 \n",
       "Q 4978 1809 4818 1395 \n",
       "Q 4659 981 4331 666 \n",
       "Q 3956 303 3431 151 \n",
       "Q 2906 0 1856 0 \n",
       "L 588 0 \n",
       "L 588 4666 \n",
       "z\n",
       "\" transform=\"scale(0.015625)\"/>\n",
       "      </defs>\n",
       "      <use xlink:href=\"#DejaVuSans-Bold-44\"/>\n",
       "     </g>\n",
       "    </g>\n",
       "   </g>\n",
       "   <g id=\"text_2\">\n",
       "    <g clip-path=\"url(#pf785237f4d)\">\n",
       "     <!-- E -->\n",
       "     <g transform=\"translate(28.092986 95.007118)scale(0.12 -0.12)\">\n",
       "      <defs>\n",
       "       <path id=\"DejaVuSans-Bold-45\" d=\"M 588 4666 \n",
       "L 3834 4666 \n",
       "L 3834 3756 \n",
       "L 1791 3756 \n",
       "L 1791 2888 \n",
       "L 3713 2888 \n",
       "L 3713 1978 \n",
       "L 1791 1978 \n",
       "L 1791 909 \n",
       "L 3903 909 \n",
       "L 3903 0 \n",
       "L 588 0 \n",
       "L 588 4666 \n",
       "z\n",
       "\" transform=\"scale(0.015625)\"/>\n",
       "      </defs>\n",
       "      <use xlink:href=\"#DejaVuSans-Bold-45\"/>\n",
       "     </g>\n",
       "    </g>\n",
       "   </g>\n",
       "   <g id=\"text_3\">\n",
       "    <g clip-path=\"url(#pf785237f4d)\">\n",
       "     <!-- G -->\n",
       "     <g transform=\"translate(200.369978 95.007118)scale(0.12 -0.12)\">\n",
       "      <defs>\n",
       "       <path id=\"DejaVuSans-Bold-47\" d=\"M 4781 347 \n",
       "Q 4331 128 3847 18 \n",
       "Q 3363 -91 2847 -91 \n",
       "Q 1681 -91 1000 561 \n",
       "Q 319 1213 319 2328 \n",
       "Q 319 3456 1012 4103 \n",
       "Q 1706 4750 2913 4750 \n",
       "Q 3378 4750 3804 4662 \n",
       "Q 4231 4575 4609 4403 \n",
       "L 4609 3438 \n",
       "Q 4219 3659 3833 3768 \n",
       "Q 3447 3878 3059 3878 \n",
       "Q 2341 3878 1952 3476 \n",
       "Q 1563 3075 1563 2328 \n",
       "Q 1563 1588 1938 1184 \n",
       "Q 2313 781 3003 781 \n",
       "Q 3191 781 3352 804 \n",
       "Q 3513 828 3641 878 \n",
       "L 3641 1784 \n",
       "L 2906 1784 \n",
       "L 2906 2591 \n",
       "L 4781 2591 \n",
       "L 4781 347 \n",
       "z\n",
       "\" transform=\"scale(0.015625)\"/>\n",
       "      </defs>\n",
       "      <use xlink:href=\"#DejaVuSans-Bold-47\"/>\n",
       "     </g>\n",
       "    </g>\n",
       "   </g>\n",
       "   <g id=\"text_4\">\n",
       "    <g clip-path=\"url(#pf785237f4d)\">\n",
       "     <!-- H -->\n",
       "     <g transform=\"translate(27.170486 154.51125)scale(0.12 -0.12)\">\n",
       "      <defs>\n",
       "       <path id=\"DejaVuSans-Bold-48\" d=\"M 588 4666 \n",
       "L 1791 4666 \n",
       "L 1791 2888 \n",
       "L 3566 2888 \n",
       "L 3566 4666 \n",
       "L 4769 4666 \n",
       "L 4769 0 \n",
       "L 3566 0 \n",
       "L 3566 1978 \n",
       "L 1791 1978 \n",
       "L 1791 0 \n",
       "L 588 0 \n",
       "L 588 4666 \n",
       "z\n",
       "\" transform=\"scale(0.015625)\"/>\n",
       "      </defs>\n",
       "      <use xlink:href=\"#DejaVuSans-Bold-48\"/>\n",
       "     </g>\n",
       "    </g>\n",
       "   </g>\n",
       "   <g id=\"text_5\">\n",
       "    <g clip-path=\"url(#pf785237f4d)\">\n",
       "     <!-- C -->\n",
       "     <g transform=\"translate(200.891228 154.51125)scale(0.12 -0.12)\">\n",
       "      <defs>\n",
       "       <path id=\"DejaVuSans-Bold-43\" d=\"M 4288 256 \n",
       "Q 3956 84 3597 -3 \n",
       "Q 3238 -91 2847 -91 \n",
       "Q 1681 -91 1000 561 \n",
       "Q 319 1213 319 2328 \n",
       "Q 319 3447 1000 4098 \n",
       "Q 1681 4750 2847 4750 \n",
       "Q 3238 4750 3597 4662 \n",
       "Q 3956 4575 4288 4403 \n",
       "L 4288 3438 \n",
       "Q 3953 3666 3628 3772 \n",
       "Q 3303 3878 2944 3878 \n",
       "Q 2300 3878 1931 3465 \n",
       "Q 1563 3053 1563 2328 \n",
       "Q 1563 1606 1931 1193 \n",
       "Q 2300 781 2944 781 \n",
       "Q 3303 781 3628 887 \n",
       "Q 3953 994 4288 1222 \n",
       "L 4288 256 \n",
       "z\n",
       "\" transform=\"scale(0.015625)\"/>\n",
       "      </defs>\n",
       "      <use xlink:href=\"#DejaVuSans-Bold-43\"/>\n",
       "     </g>\n",
       "    </g>\n",
       "   </g>\n",
       "   <g id=\"text_6\">\n",
       "    <g clip-path=\"url(#pf785237f4d)\">\n",
       "     <!-- F -->\n",
       "     <g transform=\"translate(28.092986 214.015382)scale(0.12 -0.12)\">\n",
       "      <defs>\n",
       "       <path id=\"DejaVuSans-Bold-46\" d=\"M 588 4666 \n",
       "L 3834 4666 \n",
       "L 3834 3756 \n",
       "L 1791 3756 \n",
       "L 1791 2888 \n",
       "L 3713 2888 \n",
       "L 3713 1978 \n",
       "L 1791 1978 \n",
       "L 1791 0 \n",
       "L 588 0 \n",
       "L 588 4666 \n",
       "z\n",
       "\" transform=\"scale(0.015625)\"/>\n",
       "      </defs>\n",
       "      <use xlink:href=\"#DejaVuSans-Bold-46\"/>\n",
       "     </g>\n",
       "    </g>\n",
       "   </g>\n",
       "   <g id=\"text_7\">\n",
       "    <g clip-path=\"url(#pf785237f4d)\">\n",
       "     <!-- A -->\n",
       "     <g transform=\"translate(200.651228 214.015382)scale(0.12 -0.12)\">\n",
       "      <defs>\n",
       "       <path id=\"DejaVuSans-Bold-41\" d=\"M 3419 850 \n",
       "L 1538 850 \n",
       "L 1241 0 \n",
       "L 31 0 \n",
       "L 1759 4666 \n",
       "L 3194 4666 \n",
       "L 4922 0 \n",
       "L 3713 0 \n",
       "L 3419 850 \n",
       "z\n",
       "M 1838 1716 \n",
       "L 3116 1716 \n",
       "L 2478 3572 \n",
       "L 1838 1716 \n",
       "z\n",
       "\" transform=\"scale(0.015625)\"/>\n",
       "      </defs>\n",
       "      <use xlink:href=\"#DejaVuSans-Bold-41\"/>\n",
       "     </g>\n",
       "    </g>\n",
       "   </g>\n",
       "   <g id=\"text_8\">\n",
       "    <g clip-path=\"url(#pf785237f4d)\">\n",
       "     <!-- B -->\n",
       "     <g transform=\"translate(265.635139 273.519514)scale(0.12 -0.12)\">\n",
       "      <defs>\n",
       "       <path id=\"DejaVuSans-Bold-42\" d=\"M 2456 2859 \n",
       "Q 2741 2859 2887 2984 \n",
       "Q 3034 3109 3034 3353 \n",
       "Q 3034 3594 2887 3720 \n",
       "Q 2741 3847 2456 3847 \n",
       "L 1791 3847 \n",
       "L 1791 2859 \n",
       "L 2456 2859 \n",
       "z\n",
       "M 2497 819 \n",
       "Q 2859 819 3042 972 \n",
       "Q 3225 1125 3225 1434 \n",
       "Q 3225 1738 3044 1889 \n",
       "Q 2863 2041 2497 2041 \n",
       "L 1791 2041 \n",
       "L 1791 819 \n",
       "L 2497 819 \n",
       "z\n",
       "M 3616 2497 \n",
       "Q 4003 2384 4215 2081 \n",
       "Q 4428 1778 4428 1338 \n",
       "Q 4428 663 3972 331 \n",
       "Q 3516 0 2584 0 \n",
       "L 588 0 \n",
       "L 588 4666 \n",
       "L 2394 4666 \n",
       "Q 3366 4666 3802 4372 \n",
       "Q 4238 4078 4238 3431 \n",
       "Q 4238 3091 4078 2852 \n",
       "Q 3919 2613 3616 2497 \n",
       "z\n",
       "\" transform=\"scale(0.015625)\"/>\n",
       "      </defs>\n",
       "      <use xlink:href=\"#DejaVuSans-Bold-42\"/>\n",
       "     </g>\n",
       "    </g>\n",
       "   </g>\n",
       "  </g>\n",
       " </g>\n",
       " <defs>\n",
       "  <clipPath id=\"pf785237f4d\">\n",
       "   <rect x=\"7.2\" y=\"7.2\" width=\"288\" height=\"288\"/>\n",
       "  </clipPath>\n",
       " </defs>\n",
       "</svg>\n"
      ],
      "text/plain": [
       "<Figure size 288x288 with 1 Axes>"
      ]
     },
     "metadata": {},
     "output_type": "display_data"
    }
   ],
   "source": [
    "visualize_graph(graph, figsize=(4, 4), show_plot=True)"
   ]
  },
  {
   "cell_type": "markdown",
   "id": "f01db36e",
   "metadata": {},
   "source": [
    "To sample from a graph, we use the function `CausalDAG.sample`:"
   ]
  },
  {
   "cell_type": "code",
   "execution_count": 32,
   "id": "cba861e9",
   "metadata": {},
   "outputs": [
    {
     "data": {
      "text/plain": [
       "{'D': array([8]),\n",
       " 'E': array([7]),\n",
       " 'G': array([6]),\n",
       " 'H': array([8]),\n",
       " 'C': array([6]),\n",
       " 'F': array([4]),\n",
       " 'A': array([0]),\n",
       " 'B': array([3])}"
      ]
     },
     "execution_count": 32,
     "metadata": {},
     "output_type": "execute_result"
    }
   ],
   "source": [
    "graph.sample()"
   ]
  },
  {
   "cell_type": "code",
   "execution_count": 38,
   "id": "ed4c8afc",
   "metadata": {},
   "outputs": [
    {
     "data": {
      "text/plain": [
       "{'D': array([1, 7, 8, 7, 2, 7, 5, 9, 9, 5, 8, 8, 1, 9, 9]),\n",
       " 'E': array([5, 7, 2, 7, 3, 8, 0, 1, 8, 6, 2, 2, 0, 7, 1]),\n",
       " 'G': array([6, 8, 1, 5, 9, 5, 8, 5, 8, 5, 6, 5, 9, 5, 5]),\n",
       " 'H': array([8, 0, 3, 0, 7, 0, 8, 2, 6, 2, 9, 9, 6, 8, 0]),\n",
       " 'C': array([6, 4, 6, 0, 6, 6, 4, 4, 4, 6, 4, 1, 4, 0, 6]),\n",
       " 'F': array([0, 4, 0, 4, 7, 4, 1, 6, 4, 3, 4, 9, 4, 5, 6]),\n",
       " 'A': array([5, 0, 0, 9, 9, 4, 6, 3, 5, 3, 0, 8, 4, 9, 2]),\n",
       " 'B': array([0, 4, 5, 7, 3, 4, 4, 8, 2, 8, 7, 2, 0, 8, 8])}"
      ]
     },
     "execution_count": 38,
     "metadata": {},
     "output_type": "execute_result"
    }
   ],
   "source": [
    "graph.sample(batch_size=15)"
   ]
  },
  {
   "cell_type": "markdown",
   "id": "bf156917",
   "metadata": {},
   "source": [
    "Sampling with interventions is supported by passing a dictionary with the intended interventions. The interventions can be imperfect, i.e. a new distribution, or perfect, i.e. constant values. We demonstrate here a perfect intervention on the variable C:"
   ]
  },
  {
   "cell_type": "code",
   "execution_count": 33,
   "id": "5c2ef634",
   "metadata": {},
   "outputs": [
    {
     "data": {
      "text/plain": [
       "{'D': array([8]),\n",
       " 'E': array([4]),\n",
       " 'G': array([6]),\n",
       " 'H': array([1]),\n",
       " 'C': array([0]),\n",
       " 'F': array([4]),\n",
       " 'A': array([0]),\n",
       " 'B': array([9])}"
      ]
     },
     "execution_count": 33,
     "metadata": {},
     "output_type": "execute_result"
    }
   ],
   "source": [
    "graph.sample(interventions={'C': np.array([0])})"
   ]
  },
  {
   "cell_type": "markdown",
   "id": "dd6bee85",
   "metadata": {},
   "source": [
    "Graphs can be saved and loaded with the function `save_to_file` and `CausalDAG.load_from_file`. To save the graph as a set of observational and interventional dataset, you can use the function `export_graph` from `graph_export.py`. We used this functionality to export the data to apply other causal discovery methods on. Graphs in the `.bif` format, as from the BnLearn repository, can be loaded via the function `load_graph_file` in `graph_real_world.py`."
   ]
  },
  {
   "cell_type": "markdown",
   "id": "74c37a5c",
   "metadata": {},
   "source": [
    "## Causal Discovery with ENCO\n",
    "\n",
    "The graph objects explained above are used to implement the structure learning with ENCO in the folder `causal_discovery`. To run ENCO on such a graph, we simply need to create an `ENCO` object, and run the structure learning via the `discover_graph` function:"
   ]
  },
  {
   "cell_type": "code",
   "execution_count": 15,
   "id": "c5aa93e7",
   "metadata": {},
   "outputs": [],
   "source": [
    "from causal_discovery.enco import ENCO"
   ]
  },
  {
   "cell_type": "code",
   "execution_count": 10,
   "id": "b1d01265",
   "metadata": {},
   "outputs": [
    {
     "name": "stdout",
     "output_type": "stream",
     "text": [
      "Creating dataset...\n",
      "Dataset created in 0.03s\n",
      "Sampling interventional data...\n",
      "Done in 0.01s\n",
      "Distribution fitting model:\n",
      "MultivarMLP(\n",
      "  (layers): ModuleList(\n",
      "    (0): EmbedLayer(\n",
      "      (input_mask): InputMask()\n",
      "      (embedding): Embedding(640, 64)\n",
      "    )\n",
      "    (1): LeakyReLU(negative_slope=0.1, inplace=True)\n",
      "    (2): MultivarLinear(input_dims=64, output_dims=64, extra_dims=[8])\n",
      "    (3): LeakyReLU(negative_slope=0.1, inplace=True)\n",
      "    (4): MultivarLinear(input_dims=64, output_dims=10, extra_dims=[8])\n",
      "  )\n",
      ")\n",
      "Dataset size:\n",
      "- Observational: 5000\n",
      "- Interventional: 200\n"
     ]
    }
   ],
   "source": [
    "enco_module = ENCO(graph=graph)\n",
    "if torch.cuda.is_available():\n",
    "    enco_module.to(torch.device('cuda:0'))"
   ]
  },
  {
   "cell_type": "code",
   "execution_count": 11,
   "id": "d1cb9d9f",
   "metadata": {
    "scrolled": true
   },
   "outputs": [
    {
     "data": {
      "application/vnd.jupyter.widget-view+json": {
       "model_id": "",
       "version_major": 2,
       "version_minor": 0
      },
      "text/plain": [
       "Epoch loop:   0%|          | 0/2 [00:00<?, ?it/s]"
      ]
     },
     "metadata": {},
     "output_type": "display_data"
    },
    {
     "data": {
      "application/vnd.jupyter.widget-view+json": {
       "model_id": "",
       "version_major": 2,
       "version_minor": 0
      },
      "text/plain": [
       "Distribution fitting loop:   0%|          | 0/1000 [00:00<?, ?it/s]"
      ]
     },
     "metadata": {},
     "output_type": "display_data"
    },
    {
     "data": {
      "application/vnd.jupyter.widget-view+json": {
       "model_id": "",
       "version_major": 2,
       "version_minor": 0
      },
      "text/plain": [
       "Graph fitting loop:   0%|          | 0/100 [00:00<?, ?it/s]"
      ]
     },
     "metadata": {},
     "output_type": "display_data"
    },
    {
     "name": "stdout",
     "output_type": "stream",
     "text": [
      "--- [EPOCH 1] ---\n",
      "Graph - SHD: 2, Recall: 100.00%, Precision: 83.33% (TP=10,FP=2,FN=0,TN=44)\n",
      "      -> FP: ancestors=1, descendants=0, confounders=1, independents=0\n",
      "Theta - Orientation accuracy: 100.00% (TP=10,FN=0)\n"
     ]
    },
    {
     "data": {
      "application/vnd.jupyter.widget-view+json": {
       "model_id": "",
       "version_major": 2,
       "version_minor": 0
      },
      "text/plain": [
       "Distribution fitting loop:   0%|          | 0/1000 [00:00<?, ?it/s]"
      ]
     },
     "metadata": {},
     "output_type": "display_data"
    },
    {
     "data": {
      "application/vnd.jupyter.widget-view+json": {
       "model_id": "",
       "version_major": 2,
       "version_minor": 0
      },
      "text/plain": [
       "Graph fitting loop:   0%|          | 0/100 [00:00<?, ?it/s]"
      ]
     },
     "metadata": {},
     "output_type": "display_data"
    },
    {
     "name": "stdout",
     "output_type": "stream",
     "text": [
      "--- [EPOCH 2] ---\n",
      "Graph - SHD: 0, Recall: 100.00%, Precision: 100.00% (TP=10,FP=0,FN=0,TN=46)\n",
      "      -> FP: ancestors=0, descendants=0, confounders=0, independents=0\n",
      "Theta - Orientation accuracy: 100.00% (TP=10,FN=0)\n"
     ]
    }
   ],
   "source": [
    "predicted_adj_matrix = enco_module.discover_graph(num_epochs=2)"
   ]
  },
  {
   "cell_type": "markdown",
   "id": "1b599432",
   "metadata": {},
   "source": [
    "After every epoch, the metrics of comparing the current prediction to the ground truth graph are printed out. In the case of the small graph we created above, ENCO finds the graph quite quickly. The return value is the predicted adjacency matrix, and can be passed to a new graph object if you want to visualize the prediction. Hyperparameters for the structure learning process can be passed to the ENCO object in the init-function. \n",
    "\n",
    "This completes the quick guide through the code. To run experiments on a larger scale, we recommend to use the python files provided in the `experiments` folder. Further, the commands to reproduce the experiments in the paper are provided in `experiments/run_scripts/`."
   ]
  },
  {
   "cell_type": "code",
   "execution_count": 12,
   "id": "1ae2211e",
   "metadata": {},
   "outputs": [],
   "source": []
  },
  {
   "cell_type": "code",
   "execution_count": null,
   "id": "855afb65",
   "metadata": {},
   "outputs": [],
   "source": []
  }
 ],
 "metadata": {
  "kernelspec": {
   "display_name": "Python 3 (ipykernel)",
   "language": "python",
   "name": "python3"
  },
  "language_info": {
   "codemirror_mode": {
    "name": "ipython",
    "version": 3
   },
   "file_extension": ".py",
   "mimetype": "text/x-python",
   "name": "python",
   "nbconvert_exporter": "python",
   "pygments_lexer": "ipython3",
   "version": "3.9.12"
  }
 },
 "nbformat": 4,
 "nbformat_minor": 5
}
